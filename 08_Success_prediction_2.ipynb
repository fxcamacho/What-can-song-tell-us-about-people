{
 "cells": [
  {
   "cell_type": "code",
   "execution_count": 8,
   "metadata": {},
   "outputs": [],
   "source": [
    "import numpy as np \n",
    "import pandas as pd # for working with dataframes\n",
    "import seaborn as sns # for data visualization \n",
    "from matplotlib import pyplot as plt # for plotting\n",
    "\n",
    "from sklearn.linear_model import LogisticRegression\n",
    "from sklearn.ensemble import RandomForestClassifier\n",
    "from sklearn.neighbors import KNeighborsClassifier\n",
    "from sklearn.tree import DecisionTreeClassifier\n",
    "from sklearn.svm import SVC, LinearSVC\n",
    "from xgboost import XGBClassifier\n",
    "from sklearn.metrics import classification_report\n",
    "\n",
    "from sklearn.metrics import make_scorer, accuracy_score, roc_auc_score \n",
    "from sklearn.model_selection import GridSearchCV\n",
    "from sklearn.model_selection import train_test_split"
   ]
  },
  {
   "cell_type": "code",
   "execution_count": 9,
   "metadata": {},
   "outputs": [],
   "source": [
    "#Different clasifier will be test in order to check which is the one which works best for clasifying a song in\n",
    "#between big hit or not."
   ]
  },
  {
   "cell_type": "code",
   "execution_count": 11,
   "metadata": {},
   "outputs": [
    {
     "data": {
      "text/html": [
       "<div>\n",
       "<style scoped>\n",
       "    .dataframe tbody tr th:only-of-type {\n",
       "        vertical-align: middle;\n",
       "    }\n",
       "\n",
       "    .dataframe tbody tr th {\n",
       "        vertical-align: top;\n",
       "    }\n",
       "\n",
       "    .dataframe thead th {\n",
       "        text-align: right;\n",
       "    }\n",
       "</style>\n",
       "<table border=\"1\" class=\"dataframe\">\n",
       "  <thead>\n",
       "    <tr style=\"text-align: right;\">\n",
       "      <th></th>\n",
       "      <th>Unnamed: 0</th>\n",
       "      <th>track_name</th>\n",
       "      <th>artist_name</th>\n",
       "      <th>sum_streams</th>\n",
       "      <th>avg_danceability</th>\n",
       "      <th>avg_energy</th>\n",
       "      <th>avg_loudness</th>\n",
       "      <th>avg_speechiness</th>\n",
       "      <th>avg_acousticness</th>\n",
       "      <th>avg_instrumentalness</th>\n",
       "      <th>avg_liveness</th>\n",
       "      <th>avg_valence</th>\n",
       "      <th>avg_tempo</th>\n",
       "      <th>avg_duration_ms</th>\n",
       "      <th>popularity</th>\n",
       "      <th>target</th>\n",
       "    </tr>\n",
       "  </thead>\n",
       "  <tbody>\n",
       "    <tr>\n",
       "      <th>0</th>\n",
       "      <td>1</td>\n",
       "      <td>Shape of You</td>\n",
       "      <td>Ed Sheeran</td>\n",
       "      <td>2007865025</td>\n",
       "      <td>0.825</td>\n",
       "      <td>0.6520</td>\n",
       "      <td>-3.1830</td>\n",
       "      <td>0.0802</td>\n",
       "      <td>0.58100</td>\n",
       "      <td>0.000000</td>\n",
       "      <td>0.0931</td>\n",
       "      <td>0.9310</td>\n",
       "      <td>95.9770</td>\n",
       "      <td>233712.0</td>\n",
       "      <td>1</td>\n",
       "      <td>1</td>\n",
       "    </tr>\n",
       "    <tr>\n",
       "      <th>1</th>\n",
       "      <td>2</td>\n",
       "      <td>God's Plan</td>\n",
       "      <td>Drake</td>\n",
       "      <td>1193354417</td>\n",
       "      <td>0.756</td>\n",
       "      <td>0.4505</td>\n",
       "      <td>-9.2105</td>\n",
       "      <td>0.1095</td>\n",
       "      <td>0.03270</td>\n",
       "      <td>0.000083</td>\n",
       "      <td>0.5675</td>\n",
       "      <td>0.3515</td>\n",
       "      <td>77.1685</td>\n",
       "      <td>198973.0</td>\n",
       "      <td>2</td>\n",
       "      <td>1</td>\n",
       "    </tr>\n",
       "    <tr>\n",
       "      <th>2</th>\n",
       "      <td>3</td>\n",
       "      <td>Havana</td>\n",
       "      <td>Camila Cabello</td>\n",
       "      <td>1081243413</td>\n",
       "      <td>0.765</td>\n",
       "      <td>0.5230</td>\n",
       "      <td>-4.3330</td>\n",
       "      <td>0.0300</td>\n",
       "      <td>0.18400</td>\n",
       "      <td>0.000036</td>\n",
       "      <td>0.1320</td>\n",
       "      <td>0.3940</td>\n",
       "      <td>104.9880</td>\n",
       "      <td>217306.0</td>\n",
       "      <td>3</td>\n",
       "      <td>1</td>\n",
       "    </tr>\n",
       "    <tr>\n",
       "      <th>3</th>\n",
       "      <td>4</td>\n",
       "      <td>Despacito - Remix</td>\n",
       "      <td>Luis Fonsi</td>\n",
       "      <td>1016932253</td>\n",
       "      <td>0.649</td>\n",
       "      <td>0.7980</td>\n",
       "      <td>-4.3460</td>\n",
       "      <td>0.1780</td>\n",
       "      <td>0.22600</td>\n",
       "      <td>0.000000</td>\n",
       "      <td>0.0711</td>\n",
       "      <td>0.8570</td>\n",
       "      <td>177.8990</td>\n",
       "      <td>230413.0</td>\n",
       "      <td>4</td>\n",
       "      <td>1</td>\n",
       "    </tr>\n",
       "    <tr>\n",
       "      <th>4</th>\n",
       "      <td>5</td>\n",
       "      <td>New Rules</td>\n",
       "      <td>Dua Lipa</td>\n",
       "      <td>993805591</td>\n",
       "      <td>0.762</td>\n",
       "      <td>0.7000</td>\n",
       "      <td>-6.0210</td>\n",
       "      <td>0.0694</td>\n",
       "      <td>0.00261</td>\n",
       "      <td>0.000016</td>\n",
       "      <td>0.1530</td>\n",
       "      <td>0.6080</td>\n",
       "      <td>116.0730</td>\n",
       "      <td>209320.0</td>\n",
       "      <td>5</td>\n",
       "      <td>1</td>\n",
       "    </tr>\n",
       "  </tbody>\n",
       "</table>\n",
       "</div>"
      ],
      "text/plain": [
       "   Unnamed: 0         track_name     artist_name  sum_streams  \\\n",
       "0           1       Shape of You      Ed Sheeran   2007865025   \n",
       "1           2         God's Plan           Drake   1193354417   \n",
       "2           3             Havana  Camila Cabello   1081243413   \n",
       "3           4  Despacito - Remix      Luis Fonsi   1016932253   \n",
       "4           5          New Rules        Dua Lipa    993805591   \n",
       "\n",
       "   avg_danceability  avg_energy  avg_loudness  avg_speechiness  \\\n",
       "0             0.825      0.6520       -3.1830           0.0802   \n",
       "1             0.756      0.4505       -9.2105           0.1095   \n",
       "2             0.765      0.5230       -4.3330           0.0300   \n",
       "3             0.649      0.7980       -4.3460           0.1780   \n",
       "4             0.762      0.7000       -6.0210           0.0694   \n",
       "\n",
       "   avg_acousticness  avg_instrumentalness  avg_liveness  avg_valence  \\\n",
       "0           0.58100              0.000000        0.0931       0.9310   \n",
       "1           0.03270              0.000083        0.5675       0.3515   \n",
       "2           0.18400              0.000036        0.1320       0.3940   \n",
       "3           0.22600              0.000000        0.0711       0.8570   \n",
       "4           0.00261              0.000016        0.1530       0.6080   \n",
       "\n",
       "   avg_tempo  avg_duration_ms  popularity  target  \n",
       "0    95.9770         233712.0           1       1  \n",
       "1    77.1685         198973.0           2       1  \n",
       "2   104.9880         217306.0           3       1  \n",
       "3   177.8990         230413.0           4       1  \n",
       "4   116.0730         209320.0           5       1  "
      ]
     },
     "execution_count": 11,
     "metadata": {},
     "output_type": "execute_result"
    }
   ],
   "source": [
    "df = pd.read_csv('data/popularity.csv')\n",
    "df.head()"
   ]
  },
  {
   "cell_type": "code",
   "execution_count": 12,
   "metadata": {
    "scrolled": true
   },
   "outputs": [],
   "source": [
    "#taking feature between 0 and 1\n",
    "\n",
    "features = [\"avg_acousticness\", \"avg_danceability\", \"avg_energy\", \"avg_instrumentalness\",\"avg_liveness\", \n",
    "          \"avg_speechiness\", \"avg_valence\"]"
   ]
  },
  {
   "cell_type": "code",
   "execution_count": 13,
   "metadata": {},
   "outputs": [],
   "source": [
    "X = df[features]\n",
    "y = df['target']\n"
   ]
  },
  {
   "cell_type": "code",
   "execution_count": 14,
   "metadata": {},
   "outputs": [],
   "source": [
    "X_train, X_test, y_train, y_test = train_test_split(X, y, test_size=0.10, random_state=242)"
   ]
  },
  {
   "cell_type": "code",
   "execution_count": 15,
   "metadata": {},
   "outputs": [
    {
     "data": {
      "text/plain": [
       "((13004, 7), (1445, 7), (13004,), (1445,))"
      ]
     },
     "execution_count": 15,
     "metadata": {},
     "output_type": "execute_result"
    }
   ],
   "source": [
    "X_train.shape, X_test.shape, y_train.shape, y_test.shape"
   ]
  },
  {
   "cell_type": "code",
   "execution_count": 16,
   "metadata": {},
   "outputs": [
    {
     "name": "stdout",
     "output_type": "stream",
     "text": [
      "Accuracy: 0.7480968858131488\n",
      "             precision    recall  f1-score   support\n",
      "\n",
      "          0       0.75      1.00      0.86      1081\n",
      "          1       0.00      0.00      0.00       364\n",
      "\n",
      "avg / total       0.56      0.75      0.64      1445\n",
      "\n"
     ]
    },
    {
     "name": "stderr",
     "output_type": "stream",
     "text": [
      "/Users/FelixCamacho/anaconda3/lib/python3.6/site-packages/sklearn/metrics/classification.py:1135: UndefinedMetricWarning: Precision and F-score are ill-defined and being set to 0.0 in labels with no predicted samples.\n",
      "  'precision', 'predicted', average, warn_for)\n"
     ]
    }
   ],
   "source": [
    "#Linear Regression\n",
    "\n",
    "LR_Model = LogisticRegression()\n",
    "LR_Model.fit(X_train, y_train)\n",
    "LR_Predict = LR_Model.predict(X_test)\n",
    "LR_Accuracy = accuracy_score(y_test, LR_Predict)\n",
    "print(\"Accuracy: \" + str(LR_Accuracy))\n",
    "print(classification_report(y_test,LR_Model.predict(X_test)))\n",
    "\n"
   ]
  },
  {
   "cell_type": "code",
   "execution_count": 17,
   "metadata": {},
   "outputs": [
    {
     "name": "stdout",
     "output_type": "stream",
     "text": [
      "Accuracy: 0.6269896193771626%\n",
      "             precision    recall  f1-score   support\n",
      "\n",
      "          0       0.75      0.74      0.75      1081\n",
      "          1       0.27      0.28      0.27       364\n",
      "\n",
      "avg / total       0.63      0.63      0.63      1445\n",
      "\n"
     ]
    }
   ],
   "source": [
    "#Decision Tree\n",
    "\n",
    "DT_Model = DecisionTreeClassifier()\n",
    "DT_Model.fit(X_train, y_train)\n",
    "DT_Predict = DT_Model.predict(X_test)\n",
    "DT_Accuracy = accuracy_score(y_test, DT_Predict)\n",
    "print(\"Accuracy: \" + str(DT_Accuracy)+\"%\")\n",
    "print(classification_report(y_test,DT_Model.predict(X_test)))\n",
    "\n"
   ]
  },
  {
   "cell_type": "code",
   "execution_count": 18,
   "metadata": {},
   "outputs": [
    {
     "name": "stdout",
     "output_type": "stream",
     "text": [
      "Accuracy: 0.6304498269896194%\n",
      "             precision    recall  f1-score   support\n",
      "\n",
      "          0       0.76      0.75      0.75      1081\n",
      "          1       0.28      0.29      0.28       364\n",
      "\n",
      "avg / total       0.64      0.63      0.63      1445\n",
      "\n"
     ]
    }
   ],
   "source": [
    "#Support Vector Machine\n",
    "\n",
    "LSVC_Model = DecisionTreeClassifier()\n",
    "LSVC_Model.fit(X_train, y_train)\n",
    "LSVC_Predict = LSVC_Model.predict(X_test)\n",
    "LSVC_Accuracy = accuracy_score(y_test, LSVC_Predict)\n",
    "print(\"Accuracy: \" + str(LSVC_Accuracy)+\"%\")\n",
    "print(classification_report(y_test,LSVC_Model.predict(X_test)))"
   ]
  },
  {
   "cell_type": "code",
   "execution_count": 19,
   "metadata": {},
   "outputs": [
    {
     "name": "stdout",
     "output_type": "stream",
     "text": [
      "Accuracy: 0.7273356401384083%\n",
      "             precision    recall  f1-score   support\n",
      "\n",
      "          0       0.76      0.75      0.75      1081\n",
      "          1       0.28      0.29      0.28       364\n",
      "\n",
      "avg / total       0.64      0.63      0.63      1445\n",
      "\n"
     ]
    }
   ],
   "source": [
    "#Random Forest\n",
    "\n",
    "RFC_Model = RandomForestClassifier()\n",
    "RFC_Model.fit(X_train, y_train)\n",
    "RFC_Predict = RFC_Model.predict(X_test)\n",
    "RFC_Accuracy = accuracy_score(y_test, RFC_Predict)\n",
    "\n",
    "print(\"Accuracy: \" + str(RFC_Accuracy)+\"%\")\n",
    "print(classification_report(y_test,LSVC_Model.predict(X_test)))"
   ]
  },
  {
   "cell_type": "code",
   "execution_count": 20,
   "metadata": {},
   "outputs": [
    {
     "name": "stdout",
     "output_type": "stream",
     "text": [
      "Accuracy: 0.7072664359861591%\n",
      "             precision    recall  f1-score   support\n",
      "\n",
      "          0       0.76      0.90      0.82      1081\n",
      "          1       0.31      0.14      0.19       364\n",
      "\n",
      "avg / total       0.64      0.71      0.66      1445\n",
      "\n"
     ]
    }
   ],
   "source": [
    "#KNN\n",
    "\n",
    "KNN_Model = KNeighborsClassifier()\n",
    "KNN_Model.fit(X_train, y_train)\n",
    "KNN_Predict = KNN_Model.predict(X_test)\n",
    "KNN_Accuracy = accuracy_score(y_test, KNN_Predict)\n",
    "\n",
    "print(\"Accuracy: \" + str(KNN_Accuracy)+\"%\")\n",
    "print(classification_report(y_test,KNN_Model.predict(X_test)))"
   ]
  },
  {
   "cell_type": "code",
   "execution_count": 21,
   "metadata": {},
   "outputs": [
    {
     "name": "stdout",
     "output_type": "stream",
     "text": [
      "Accuracy: 0.7474048442906575%\n",
      "             precision    recall  f1-score   support\n",
      "\n",
      "          0       0.75      1.00      0.86      1081\n",
      "          1       0.33      0.00      0.01       364\n",
      "\n",
      "avg / total       0.64      0.75      0.64      1445\n",
      "\n"
     ]
    },
    {
     "name": "stderr",
     "output_type": "stream",
     "text": [
      "/Users/FelixCamacho/anaconda3/lib/python3.6/site-packages/sklearn/preprocessing/label.py:151: DeprecationWarning: The truth value of an empty array is ambiguous. Returning False, but in future this will result in an error. Use `array.size > 0` to check that an array is not empty.\n",
      "  if diff:\n",
      "/Users/FelixCamacho/anaconda3/lib/python3.6/site-packages/sklearn/preprocessing/label.py:151: DeprecationWarning: The truth value of an empty array is ambiguous. Returning False, but in future this will result in an error. Use `array.size > 0` to check that an array is not empty.\n",
      "  if diff:\n"
     ]
    }
   ],
   "source": [
    "XGB_Model = XGBClassifier(objective = \"binary:logistic\", n_estimators = 10, seed = 123)\n",
    "XGB_Model.fit(X_train, y_train)\n",
    "XGB_Predict = XGB_Model.predict(X_test)\n",
    "XGB_Accuracy = accuracy_score(y_test, XGB_Predict)\n",
    "\n",
    "print(\"Accuracy: \" + str(XGB_Accuracy)+\"%\")\n",
    "print(classification_report(y_test,XGB_Model.predict(X_test)))"
   ]
  },
  {
   "cell_type": "code",
   "execution_count": 22,
   "metadata": {},
   "outputs": [
    {
     "data": {
      "text/plain": [
       "array([[0.7020238 , 0.2979762 ],\n",
       "       [0.68167925, 0.31832072],\n",
       "       [0.6599397 , 0.3400603 ],\n",
       "       ...,\n",
       "       [0.63144785, 0.36855215],\n",
       "       [0.6884204 , 0.3115796 ],\n",
       "       [0.63144785, 0.36855215]], dtype=float32)"
      ]
     },
     "execution_count": 22,
     "metadata": {},
     "output_type": "execute_result"
    }
   ],
   "source": [
    "XGB_Model.predict_proba(X_test) #va mirando la prob d que el punto sea 0 o sea 1"
   ]
  },
  {
   "cell_type": "code",
   "execution_count": 23,
   "metadata": {},
   "outputs": [
    {
     "name": "stdout",
     "output_type": "stream",
     "text": [
      "[0.06784713 0.33619094 0.0893013  0.1600821  0.18053946 0.07847929\n",
      " 0.0875598 ]\n"
     ]
    }
   ],
   "source": [
    "print(XGB_Model.feature_importances_)\n",
    "\n"
   ]
  },
  {
   "cell_type": "code",
   "execution_count": 24,
   "metadata": {},
   "outputs": [],
   "source": [
    "colnames = [\"acous\",\"dance\",\"engy\",\"instr\",\"live\",\"speec\",\"val\"]\n"
   ]
  },
  {
   "cell_type": "code",
   "execution_count": 25,
   "metadata": {},
   "outputs": [],
   "source": [
    "model_performance_accuracy = pd.DataFrame({'Model': ['LogisticRegression', \n",
    "                                                      'RandomForestClassifier', \n",
    "                                                      'KNeighborsClassifier',\n",
    "                                                      'DecisionTreeClassifier',\n",
    "                                                      'LinearSVC',\n",
    "                                                      'XGBClassifier'],\n",
    "                                            'Accuracy': [LR_Accuracy,\n",
    "                                                         RFC_Accuracy,\n",
    "                                                         KNN_Accuracy,\n",
    "                                                         DT_Accuracy,\n",
    "                                                         LSVC_Accuracy,\n",
    "                                                         XGB_Accuracy]})"
   ]
  },
  {
   "cell_type": "code",
   "execution_count": 26,
   "metadata": {},
   "outputs": [
    {
     "data": {
      "text/html": [
       "<div>\n",
       "<style scoped>\n",
       "    .dataframe tbody tr th:only-of-type {\n",
       "        vertical-align: middle;\n",
       "    }\n",
       "\n",
       "    .dataframe tbody tr th {\n",
       "        vertical-align: top;\n",
       "    }\n",
       "\n",
       "    .dataframe thead th {\n",
       "        text-align: right;\n",
       "    }\n",
       "</style>\n",
       "<table border=\"1\" class=\"dataframe\">\n",
       "  <thead>\n",
       "    <tr style=\"text-align: right;\">\n",
       "      <th></th>\n",
       "      <th>Model</th>\n",
       "      <th>Accuracy</th>\n",
       "    </tr>\n",
       "  </thead>\n",
       "  <tbody>\n",
       "    <tr>\n",
       "      <th>0</th>\n",
       "      <td>LogisticRegression</td>\n",
       "      <td>0.748097</td>\n",
       "    </tr>\n",
       "    <tr>\n",
       "      <th>5</th>\n",
       "      <td>XGBClassifier</td>\n",
       "      <td>0.747405</td>\n",
       "    </tr>\n",
       "    <tr>\n",
       "      <th>1</th>\n",
       "      <td>RandomForestClassifier</td>\n",
       "      <td>0.727336</td>\n",
       "    </tr>\n",
       "    <tr>\n",
       "      <th>2</th>\n",
       "      <td>KNeighborsClassifier</td>\n",
       "      <td>0.707266</td>\n",
       "    </tr>\n",
       "    <tr>\n",
       "      <th>4</th>\n",
       "      <td>LinearSVC</td>\n",
       "      <td>0.630450</td>\n",
       "    </tr>\n",
       "    <tr>\n",
       "      <th>3</th>\n",
       "      <td>DecisionTreeClassifier</td>\n",
       "      <td>0.626990</td>\n",
       "    </tr>\n",
       "  </tbody>\n",
       "</table>\n",
       "</div>"
      ],
      "text/plain": [
       "                    Model  Accuracy\n",
       "0      LogisticRegression  0.748097\n",
       "5           XGBClassifier  0.747405\n",
       "1  RandomForestClassifier  0.727336\n",
       "2    KNeighborsClassifier  0.707266\n",
       "4               LinearSVC  0.630450\n",
       "3  DecisionTreeClassifier  0.626990"
      ]
     },
     "execution_count": 26,
     "metadata": {},
     "output_type": "execute_result"
    }
   ],
   "source": [
    "model_performance_accuracy.sort_values(by = \"Accuracy\", ascending = False)"
   ]
  },
  {
   "cell_type": "code",
   "execution_count": 27,
   "metadata": {},
   "outputs": [],
   "source": [
    "#Logistic Regresion and XGBoost provided the best predictions on the training model"
   ]
  },
  {
   "cell_type": "code",
   "execution_count": 28,
   "metadata": {},
   "outputs": [
    {
     "name": "stdout",
     "output_type": "stream",
     "text": [
      "[0.06784713 0.33619094 0.0893013  0.1600821  0.18053946 0.07847929\n",
      " 0.0875598 ]\n"
     ]
    }
   ],
   "source": [
    "# feature importance\n",
    "print(XGB_Model.feature_importances_)\n",
    "\n"
   ]
  },
  {
   "cell_type": "code",
   "execution_count": 29,
   "metadata": {},
   "outputs": [
    {
     "data": {
      "image/png": "[encoded data removed]",
      "text/plain": [
       "<Figure size 432x288 with 1 Axes>"
      ]
     },
     "metadata": {},
     "output_type": "display_data"
    }
   ],
   "source": [
    "# plot\n",
    "plt.bar(colnames, XGB_Model.feature_importances_)\n",
    "plt.show()"
   ]
  },
  {
   "cell_type": "code",
   "execution_count": 30,
   "metadata": {},
   "outputs": [],
   "source": [
    "#Danceability, Liveness and Instrumentalness are the more influence "
   ]
  },
  {
   "cell_type": "code",
   "execution_count": null,
   "metadata": {},
   "outputs": [],
   "source": []
  }
 ],
 "metadata": {
  "kernelspec": {
   "display_name": "Python 3",
   "language": "python",
   "name": "python3"
  },
  "language_info": {
   "codemirror_mode": {
    "name": "ipython",
    "version": 3
   },
   "file_extension": ".py",
   "mimetype": "text/x-python",
   "name": "python",
   "nbconvert_exporter": "python",
   "pygments_lexer": "ipython3",
   "version": "3.6.8"
  }
 },
 "nbformat": 4,
 "nbformat_minor": 2
}
